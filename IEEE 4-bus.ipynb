{
 "cells": [
  {
   "cell_type": "code",
   "execution_count": 15,
   "id": "c14cd130",
   "metadata": {},
   "outputs": [],
   "source": [
    "import pandapower as pp\n",
    "import numpy as np"
   ]
  },
  {
   "cell_type": "code",
   "execution_count": 22,
   "id": "f34cd15a",
   "metadata": {},
   "outputs": [],
   "source": [
    "def ieee4bus(p):\n",
    "    \"\"\"\n",
    "    p:(mw) 2.5-5\n",
    "    \n",
    "    b1 -- b4\n",
    "    |      |\n",
    "    b2 -- b3\n",
    "    \n",
    "    \"\"\"\n",
    "    net = pp.create_empty_network()\n",
    "    \n",
    "    bus1 = pp.create_bus(net, vn_kv=20., name=\"Bus 1\")\n",
    "    bus2 = pp.create_bus(net, vn_kv=20., name=\"Bus 2\")\n",
    "    bus3 = pp.create_bus(net, vn_kv=20., name=\"Bus 3\")\n",
    "    bus4 = pp.create_bus(net, vn_kv=20., name=\"Bus 4\")\n",
    "\n",
    "    pp.create_gen(net, bus1, p_mw=2.5, vm_pu=1.0, slack=True, name=\"Generator Bus 1\", marginal_cost=40, min_p_mw=0)\n",
    "    pp.create_gen(net, bus2, p_mw=1, vm_pu=1.0, name=\"Generator Bus 2\", marginal_cost=50, min_p_mw=0)\n",
    "    pp.create_gen(net, bus3, p_mw=1.5, vm_pu=1.0, name=\"Generator Bus 3\", marginal_cost=60, min_p_mw=0)\n",
    "\n",
    "    pp.create_line_from_parameters(net, from_bus=bus1, to_bus=bus2, length_km=1, r_ohm_per_km=0, x_ohm_per_km=1.5, c_nf_per_km=0, max_i_ka=1,p_max_mv=1.5)\n",
    "    pp.create_line_from_parameters(net, from_bus=bus1, to_bus=bus4, length_km=1, r_ohm_per_km=0, x_ohm_per_km=1.5, c_nf_per_km=0, max_i_ka=1,p_max_mv=1.5)\n",
    "    pp.create_line_from_parameters(net, from_bus=bus2, to_bus=bus3, length_km=1, r_ohm_per_km=0, x_ohm_per_km=1.5, c_nf_per_km=0, max_i_ka=1,p_max_mv=1.5)\n",
    "    pp.create_line_from_parameters(net, from_bus=bus3, to_bus=bus4, length_km=1, r_ohm_per_km=0, x_ohm_per_km=1.5, c_nf_per_km=0, max_i_ka=1,p_max_mv=1.5)\n",
    "\n",
    "    pp.create_load(net, bus4, p_mw=p, q_mvar=0.0, name=\"Load at Bus 4\")\n",
    "\n",
    "   \n",
    "    pp.runpp(net)\n",
    "    \n",
    "\n",
    "    gen_output = net.res_gen[['p_mw']]\n",
    "    gen_output['Bus'] = net.gen['bus'].map({bus1: 'Bus 1', bus2: 'Bus 2', bus3: 'Bus 3'})\n",
    "    \n",
    "    marginal_costs = {bus1: 40, bus2: 50, bus3: 60}\n",
    "    gen_output['Marginal Cost ($/MWh)'] = net.gen['bus'].map(marginal_costs)\n",
    "    gen_output['Generation Cost ($)'] = gen_output['p_mw'] * gen_output['Marginal Cost ($/MWh)']\n",
    "    print(gen_output)\n",
    "    cost_sum = np.sum(np.array(gen_output[\"Generation Cost ($)\"]))\n",
    "    \n",
    "    return cost_sum"
   ]
  },
  {
   "cell_type": "code",
   "execution_count": 27,
   "id": "db47971e",
   "metadata": {},
   "outputs": [
    {
     "name": "stdout",
     "output_type": "stream",
     "text": [
      "    p_mw    Bus  Marginal Cost ($/MWh)  Generation Cost ($)\n",
      "0  0.232  Bus 1                     40                 9.28\n",
      "1  1.000  Bus 2                     50                50.00\n",
      "2  1.500  Bus 3                     60                90.00\n",
      "Cost($) 149.28\n"
     ]
    }
   ],
   "source": [
    "cost_sum=ieee4bus(2.732)\n",
    "print(\"Cost($)\",cost_sum)"
   ]
  },
  {
   "cell_type": "code",
   "execution_count": null,
   "id": "f8ebbb37",
   "metadata": {},
   "outputs": [],
   "source": []
  }
 ],
 "metadata": {
  "kernelspec": {
   "display_name": "env1",
   "language": "python",
   "name": "env1"
  },
  "language_info": {
   "codemirror_mode": {
    "name": "ipython",
    "version": 3
   },
   "file_extension": ".py",
   "mimetype": "text/x-python",
   "name": "python",
   "nbconvert_exporter": "python",
   "pygments_lexer": "ipython3",
   "version": "3.8.19"
  }
 },
 "nbformat": 4,
 "nbformat_minor": 5
}
